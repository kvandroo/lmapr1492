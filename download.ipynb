{
 "cells": [
  {
   "cell_type": "code",
   "execution_count": 9,
   "metadata": {},
   "outputs": [
    {
     "name": "stdout",
     "output_type": "stream",
     "text": [
      "Full Formula (C2)\n",
      "Reduced Formula: C\n",
      "abc   :   3.879971   3.879970   3.879971\n",
      "angles:  37.081408  37.081418  37.081417\n",
      "Sites (2)\n",
      "  #  SP           a         b         c    magmom\n",
      "---  ----  --------  --------  --------  --------\n",
      "  0  C     0.833341  0.833341  0.833341         0\n",
      "  1  C     0.166659  0.166659  0.166659         0\n"
     ]
    }
   ],
   "source": [
    "from pymatgen.ext.matproj import MPRester\n",
    "with MPRester(\"CBIGbbbqQQkuWWiae\") as m:\n",
    "    structure = m.get_structure_by_material_id(\"mp-169\")\n",
    "    structure.to(filename=\"C_mp-169.cif\")\n",
    "    \n",
    "print(structure)"
   ]
  },
  {
   "cell_type": "code",
   "execution_count": null,
   "metadata": {},
   "outputs": [],
   "source": []
  }
 ],
 "metadata": {
  "kernelspec": {
   "display_name": "Python 3",
   "language": "python",
   "name": "python3"
  },
  "language_info": {
   "codemirror_mode": {
    "name": "ipython",
    "version": 3
   },
   "file_extension": ".py",
   "mimetype": "text/x-python",
   "name": "python",
   "nbconvert_exporter": "python",
   "pygments_lexer": "ipython3",
   "version": "3.6.8"
  }
 },
 "nbformat": 4,
 "nbformat_minor": 2
}
