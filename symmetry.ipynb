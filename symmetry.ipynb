{
 "cells": [
  {
   "cell_type": "code",
   "execution_count": 104,
   "metadata": {},
   "outputs": [],
   "source": [
    "from pymatgen.ext.matproj import MPRester\n",
    "from pymatgen.core.operations import SymmOp\n",
    "with MPRester(\"CBIGbbbqQQkuWWiae\") as m:\n",
    "    structure = m.get_structure_by_material_id(\"mp-169\")\n",
    "    structure.to(filename=\"C_mp-169.cif\")"
   ]
  },
  {
   "cell_type": "code",
   "execution_count": 105,
   "metadata": {
    "scrolled": true
   },
   "outputs": [
    {
     "name": "stdout",
     "output_type": "stream",
     "text": [
      "1) Axe de rotation d'ordre 3 selon c (C3)\n",
      " \n",
      "Matrice de rotation associée :\n",
      "[[ 0. -1.  0.]\n",
      " [ 1. -1.  0.]\n",
      " [ 0.  0.  1.]]\n",
      "Vecteur de translation associé :\n",
      "[0. 0. 0.]\n"
     ]
    }
   ],
   "source": [
    "print(\"1) Axe de rotation d'ordre 3 selon c (C3)\")\n",
    "print(\" \")\n",
    "S1 = SymmOp.from_xyz_string(\"-y,x-y,z\")\n",
    "print(\"Matrice de rotation associée :\")\n",
    "print(S1.rotation_matrix)\n",
    "print(\"Vecteur de translation associé :\")\n",
    "print(S1.translation_vector)"
   ]
  },
  {
   "cell_type": "markdown",
   "metadata": {},
   "source": [
    "Cet élement de symétrie envoie tout atome situé en (x,y,z) sur un atome équivalent situé en (-y,x-y,z) selon la relation suivante :\n",
    "$$\n",
    "\\begin{equation*}\n",
    "    \\begin{pmatrix} 0&-1&0\\\\1&-1&0\\\\0&0&1  \\end{pmatrix} \\cdot \\begin{pmatrix} x\\\\y\\\\z \\end{pmatrix}  = \\begin{pmatrix} -y\\\\x-y\\\\z  \\end{pmatrix}\n",
    "\\end{equation*}\n",
    "$$"
   ]
  },
  {
   "cell_type": "code",
   "execution_count": 106,
   "metadata": {},
   "outputs": [
    {
     "name": "stdout",
     "output_type": "stream",
     "text": [
      "Application de l'axe de rotation C3 à l'atome de carbone situé en (x,y,z) = (1/3,2/3,1/2) :\n",
      "[-0.66666667 -0.33333333  0.5       ]\n"
     ]
    }
   ],
   "source": [
    "print(\"Application de l'axe de rotation C3 à l'atome de carbone situé en (x,y,z) = (1/3,2/3,1/2) :\")\n",
    "print(S1.operate((1/3,2/3,1/2)))"
   ]
  },
  {
   "cell_type": "markdown",
   "metadata": {},
   "source": [
    "![](C3axis.png)"
   ]
  },
  {
   "cell_type": "code",
   "execution_count": 96,
   "metadata": {},
   "outputs": [
    {
     "name": "stdout",
     "output_type": "stream",
     "text": [
      "2) Plan miroir (m)\n",
      " \n",
      "Matrice de rotation associée :\n",
      "[[-1.  1.  0.]\n",
      " [ 0.  1.  0.]\n",
      " [ 0.  0.  1.]]\n",
      "Vecteur de translation associé :\n",
      "[0. 0. 0.]\n"
     ]
    }
   ],
   "source": [
    "print(\"2) Plan miroir (m)\")\n",
    "print(\" \")\n",
    "S2 = SymmOp.from_xyz_string(\"-x+y,y,z\")\n",
    "print(\"Matrice de rotation associée :\")\n",
    "print(S2.rotation_matrix)\n",
    "print(\"Vecteur de translation associé :\")\n",
    "print(S2.translation_vector)"
   ]
  },
  {
   "cell_type": "markdown",
   "metadata": {},
   "source": [
    "Cet élement de symétrie envoie tout atome situé en (x,y,z) sur un atome équivalent situé en (-x+y,y,z) selon la relation suivante :\n",
    "$$\n",
    "\\begin{equation*}\n",
    "    \\begin{pmatrix} -1&1&0\\\\0&1&0\\\\0&0&1  \\end{pmatrix} \\cdot \\begin{pmatrix} x\\\\y\\\\z \\end{pmatrix}  = \\begin{pmatrix} -x+y\\\\y\\\\z \\end{pmatrix}\n",
    "\\end{equation*}\n",
    "$$"
   ]
  },
  {
   "cell_type": "code",
   "execution_count": 97,
   "metadata": {},
   "outputs": [
    {
     "name": "stdout",
     "output_type": "stream",
     "text": [
      "Application du plan miroir m à l'atome de carbone situé en (x,y,z) = (2/3,1/3,1/2) :\n",
      "[-0.33333333  0.33333333  0.5       ]\n"
     ]
    }
   ],
   "source": [
    "print(\"Application du plan miroir m à l'atome de carbone situé en (x,y,z) = (2/3,1/3,1/2) :\")\n",
    "print(S1.operate((2/3,1/3,1/2)))"
   ]
  },
  {
   "cell_type": "markdown",
   "metadata": {},
   "source": [
    "![](Mirror.png)"
   ]
  },
  {
   "cell_type": "code",
   "execution_count": 87,
   "metadata": {
    "scrolled": true
   },
   "outputs": [
    {
     "name": "stdout",
     "output_type": "stream",
     "text": [
      "3) Plan de glissement (n)\n",
      " \n",
      "Matrice de rotation associée :\n",
      "[[-1.  1.  0.]\n",
      " [ 0.  1.  0.]\n",
      " [ 0.  0.  1.]]\n",
      "Vecteur de translation associé :\n",
      "[-0.33333333  0.33333333  0.33333333]\n"
     ]
    }
   ],
   "source": [
    "print(\"3) Plan de glissement (n)\")\n",
    "print(\" \")\n",
    "S3 = SymmOp.from_xyz_string(\"-x+y-1/3,y+1/3,z+1/3\")\n",
    "print(\"Matrice de rotation associée :\")\n",
    "print(S3.rotation_matrix)\n",
    "print(\"Vecteur de translation associé :\")\n",
    "print(S3.translation_vector)"
   ]
  },
  {
   "cell_type": "markdown",
   "metadata": {},
   "source": [
    "Cet élement de symétrie envoie tout atome situé en (x,y,z) sur un atome équivalent situé en (-x+y-1/3,y+1/3,z+1/3) selon la relation suivante :\n",
    "$$\n",
    "\\begin{equation*}\n",
    "    \\begin{pmatrix} -1&1&0\\\\0&1&0\\\\0&0&1  \\end{pmatrix} * \\begin{pmatrix} x\\\\y\\\\z \\end{pmatrix} + \\begin{pmatrix} -1/3\\\\1/3\\\\1/3 \\end{pmatrix} = \\begin{pmatrix} -x+y-1/3\\\\y+1/3\\\\z+1/3 \\end{pmatrix}\n",
    "\\end{equation*}\n",
    "$$"
   ]
  },
  {
   "cell_type": "code",
   "execution_count": 90,
   "metadata": {},
   "outputs": [
    {
     "name": "stdout",
     "output_type": "stream",
     "text": [
      "Application du plan de glissement n à l'atome de carbone situé en (x,y,z) = (2/3,1/3,1/6) :\n",
      "[-0.33333333  0.33333333  0.16666667]\n"
     ]
    }
   ],
   "source": [
    "print(\"Application du plan de glissement n à l'atome de carbone situé en (x,y,z) = (2/3,1/3,1/6) :\")\n",
    "print(S1.operate((2/3,1/3,1/6)))"
   ]
  },
  {
   "cell_type": "markdown",
   "metadata": {},
   "source": [
    "![](g-glide.png)"
   ]
  }
 ],
 "metadata": {
  "kernelspec": {
   "display_name": "Python 3",
   "language": "python",
   "name": "python3"
  },
  "language_info": {
   "codemirror_mode": {
    "name": "ipython",
    "version": 3
   },
   "file_extension": ".py",
   "mimetype": "text/x-python",
   "name": "python",
   "nbconvert_exporter": "python",
   "pygments_lexer": "ipython3",
   "version": "3.6.8"
  }
 },
 "nbformat": 4,
 "nbformat_minor": 2
}
