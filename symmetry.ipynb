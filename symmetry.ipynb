{
 "cells": [
  {
   "cell_type": "code",
   "execution_count": 1,
   "metadata": {},
   "outputs": [],
   "source": [
    "from pymatgen.ext.matproj import MPRester\n",
    "from pymatgen.core.operations import SymmOp\n",
    "with MPRester(\"CBIGbbbqQQkuWWiae\") as m:\n",
    "    structure = m.get_structure_by_material_id(\"mp-169\")\n",
    "    structure.to(filename=\"C_mp-169.cif\")"
   ]
  },
  {
   "cell_type": "code",
   "execution_count": 3,
   "metadata": {
    "scrolled": true
   },
   "outputs": [
    {
     "name": "stdout",
     "output_type": "stream",
     "text": [
      "1) Axe de rotation d'ordre 3 selon c (C3) --> élément n°3 du fichier CIF\n",
      " \n",
      "Matrice de rotation associée :\n",
      "[[ 0. -1.  0.]\n",
      " [ 1. -1.  0.]\n",
      " [ 0.  0.  1.]]\n",
      "Vecteur de translation associé :\n",
      "[0. 0. 0.]\n"
     ]
    }
   ],
   "source": [
    "print(\"1) Axe de rotation d'ordre 3 selon c (C3) --> élément n°3 du fichier CIF\")\n",
    "print(\" \")\n",
    "S1 = SymmOp.from_xyz_string(\"-y,x-y,z\")\n",
    "print(\"Matrice de rotation associée :\")\n",
    "print(S1.rotation_matrix)\n",
    "print(\"Vecteur de translation associé :\")\n",
    "print(S1.translation_vector)"
   ]
  },
  {
   "cell_type": "markdown",
   "metadata": {},
   "source": [
    "Cet élément de symétrie envoie tout atome situé en (x,y,z) sur un atome équivalent situé en (-y,x-y,z) selon la relation suivante :\n",
    "\n",
    "![](C3axis_2.png)"
   ]
  },
  {
   "cell_type": "code",
   "execution_count": 3,
   "metadata": {},
   "outputs": [
    {
     "name": "stdout",
     "output_type": "stream",
     "text": [
      "Application de l'axe de rotation C3 à l'atome de carbone situé en (x,y,z) = (1/3,2/3,1/2) :\n",
      "[-0.66666667 -0.33333333  0.5       ]\n"
     ]
    }
   ],
   "source": [
    "print(\"Application de l'axe de rotation C3 à l'atome de carbone situé en (x,y,z) = (1/3,2/3,1/2) :\")\n",
    "print(S1.operate((1/3,2/3,1/2)))"
   ]
  },
  {
   "cell_type": "markdown",
   "metadata": {},
   "source": [
    "Cette opération de symétrie est représentée sur les deux figures ci-dessous. La fléche rouge représente l'axe de rotation C3 dans la direction [001] (qui correspond en effet au vecteur de base c de la maille conventionnelle).\n",
    "\n",
    "![](C3axis.png)"
   ]
  },
  {
   "attachments": {},
   "cell_type": "markdown",
   "metadata": {},
   "source": [
    "![](C3axis_3.png)"
   ]
  },
  {
   "cell_type": "code",
   "execution_count": 5,
   "metadata": {},
   "outputs": [
    {
     "name": "stdout",
     "output_type": "stream",
     "text": [
      "2) Plan miroir (m) --> élément n°10 du fichier CIF\n",
      " \n",
      "Matrice de rotation associée :\n",
      "[[-1.  1.  0.]\n",
      " [ 0.  1.  0.]\n",
      " [ 0.  0.  1.]]\n",
      "Vecteur de translation associé :\n",
      "[0. 0. 0.]\n"
     ]
    }
   ],
   "source": [
    "print(\"2) Plan miroir (m) --> élément n°10 du fichier CIF\")\n",
    "print(\" \")\n",
    "S2 = SymmOp.from_xyz_string(\"-x+y,y,z\")\n",
    "print(\"Matrice de rotation associée :\")\n",
    "print(S2.rotation_matrix)\n",
    "print(\"Vecteur de translation associé :\")\n",
    "print(S2.translation_vector)"
   ]
  },
  {
   "cell_type": "markdown",
   "metadata": {},
   "source": [
    "Cet élément de symétrie envoie tout atome situé en (x,y,z) sur un atome équivalent situé en (-x+y,y,z) selon la relation suivante :\n",
    "\n",
    "![](Mirror_2.png)"
   ]
  },
  {
   "cell_type": "code",
   "execution_count": 5,
   "metadata": {},
   "outputs": [
    {
     "name": "stdout",
     "output_type": "stream",
     "text": [
      "Application du plan miroir m à l'atome de carbone situé en (x,y,z) = (2/3,1/3,1/2) :\n",
      "[-0.33333333  0.33333333  0.5       ]\n"
     ]
    }
   ],
   "source": [
    "print(\"Application du plan miroir m à l'atome de carbone situé en (x,y,z) = (2/3,1/3,1/2) :\")\n",
    "print(S1.operate((2/3,1/3,1/2)))"
   ]
  },
  {
   "cell_type": "markdown",
   "metadata": {},
   "source": [
    "Cette opération de symétrie est représentée sur les deux figures ci-dessous. Le plan vert représente le plan miroir m.\n",
    "\n",
    "![](Mirror.png)"
   ]
  },
  {
   "cell_type": "markdown",
   "metadata": {},
   "source": [
    "![](Mirror_3.png)"
   ]
  },
  {
   "cell_type": "code",
   "execution_count": 7,
   "metadata": {
    "scrolled": true
   },
   "outputs": [
    {
     "name": "stdout",
     "output_type": "stream",
     "text": [
      "3) Plan de glissement (n) --> élément n°22 du fichier CIF\n",
      " \n",
      "Matrice de rotation associée :\n",
      "[[-1.  1.  0.]\n",
      " [ 0.  1.  0.]\n",
      " [ 0.  0.  1.]]\n",
      "Vecteur de translation associé :\n",
      "[-0.33333333  0.33333333  0.33333333]\n"
     ]
    }
   ],
   "source": [
    "print(\"3) Plan de glissement (n) --> élément n°22 du fichier CIF\")\n",
    "print(\" \")\n",
    "S3 = SymmOp.from_xyz_string(\"-x+y-1/3,y+1/3,z+1/3\")\n",
    "print(\"Matrice de rotation associée :\")\n",
    "print(S3.rotation_matrix)\n",
    "print(\"Vecteur de translation associé :\")\n",
    "print(S3.translation_vector)"
   ]
  },
  {
   "cell_type": "markdown",
   "metadata": {},
   "source": [
    "Cet élément de symétrie envoie tout atome situé en (x,y,z) sur un atome équivalent situé en (-x+y-1/3,y+1/3,z+1/3) selon la relation suivante :\n",
    "\n",
    "![](g-glide_2.png)"
   ]
  },
  {
   "cell_type": "code",
   "execution_count": 8,
   "metadata": {},
   "outputs": [
    {
     "name": "stdout",
     "output_type": "stream",
     "text": [
      "Application du plan de glissement n à l'atome de carbone situé en (x,y,z) = (2/3,1/3,1/6) :\n",
      "[-0.33333333  0.33333333  0.16666667]\n"
     ]
    }
   ],
   "source": [
    "print(\"Application du plan de glissement n à l'atome de carbone situé en (x,y,z) = (2/3,1/3,1/6) :\")\n",
    "print(S1.operate((2/3,1/3,1/6)))"
   ]
  },
  {
   "cell_type": "markdown",
   "metadata": {},
   "source": [
    "Cette opération de symétrie est représentée sur les deux figures ci-dessous. Le plan bleu représente le plan de glissement n. On remarque que l'atome subit d'abord une réflexion par rapport à ce plan et est ensuite translaté parallèlement à celui-ci. La flèche bleue sur la deuxième image correspond à la réflection, tandis que la flèche jaune (qui pointe vers l'extérieur de l'écran) fait référence à la translation.\n",
    "\n",
    "![](g-glide.png)"
   ]
  },
  {
   "cell_type": "markdown",
   "metadata": {},
   "source": [
    "![](g-glide_3.png)"
   ]
  }
 ],
 "metadata": {
  "kernelspec": {
   "display_name": "Python 3",
   "language": "python",
   "name": "python3"
  },
  "language_info": {
   "codemirror_mode": {
    "name": "ipython",
    "version": 3
   },
   "file_extension": ".py",
   "mimetype": "text/x-python",
   "name": "python",
   "nbconvert_exporter": "python",
   "pygments_lexer": "ipython3",
   "version": "3.6.8"
  }
 },
 "nbformat": 4,
 "nbformat_minor": 2
}
