{
 "cells": [
  {
   "cell_type": "code",
   "execution_count": 42,
   "metadata": {},
   "outputs": [],
   "source": [
    "from pymatgen.ext.matproj import MPRester\n",
    "with MPRester(\"CBIGbbbqQQkuWWiae\") as m:\n",
    "    structure = m.get_structure_by_material_id(\"mp-169\")\n",
    "    structure.to(filename=\"C_mp-169.cif\")"
   ]
  },
  {
   "cell_type": "code",
   "execution_count": 33,
   "metadata": {},
   "outputs": [
    {
     "name": "stdout",
     "output_type": "stream",
     "text": [
      "2.332357 -0.005489 3.100686\n",
      "1.032062 2.091594 3.100686\n",
      "-0.008852 -0.005489 3.879957\n"
     ]
    }
   ],
   "source": [
    "#1 Détermination des vecteurs de base du réseau direct \n",
    "\n",
    "data1 = structure.lattice\n",
    "print(data1)"
   ]
  },
  {
   "cell_type": "code",
   "execution_count": 34,
   "metadata": {},
   "outputs": [
    {
     "name": "stdout",
     "output_type": "stream",
     "text": [
      "2.685147 -1.331231 0.004243\n",
      "0.001412 2.997031 0.004243\n",
      "-2.146977 -1.331232 1.612614\n"
     ]
    }
   ],
   "source": [
    "#2 Détermination des vecteurs de base du réseau réciproque\n",
    "\n",
    "data2 = structure.lattice.reciprocal_lattice\n",
    "print(data2)"
   ]
  },
  {
   "cell_type": "code",
   "execution_count": 35,
   "metadata": {},
   "outputs": [
    {
     "name": "stdout",
     "output_type": "stream",
     "text": [
      "R-3m\n"
     ]
    }
   ],
   "source": [
    "#3 Détermination du type de maille\n",
    "\n",
    "data3 = m.query(criteria={\"task_id\": {\"$in\": [\"mp-169\"]}}, properties=[\"spacegroup.symbol\"])\n",
    "print(data3[0]['spacegroup.symbol']) \n",
    "# Le premier symbole de la notation de Hermann Mauguin fournit le type de maille, ici R = rhomboédrique"
   ]
  },
  {
   "cell_type": "code",
   "execution_count": 38,
   "metadata": {},
   "outputs": [
    {
     "name": "stdout",
     "output_type": "stream",
     "text": [
      "trigonal\n"
     ]
    }
   ],
   "source": [
    "#4 Détermination du système cristallin\n",
    "\n",
    "data4 = m.query(criteria={\"task_id\": {\"$in\": [\"mp-169\"]}}, properties=[\"spacegroup.crystal_system\"])\n",
    "print(data4[0]['spacegroup.crystal_system'])"
   ]
  },
  {
   "cell_type": "code",
   "execution_count": 40,
   "metadata": {},
   "outputs": [
    {
     "name": "stdout",
     "output_type": "stream",
     "text": [
      "-3m\n"
     ]
    }
   ],
   "source": [
    "#5 Détermination du groupe ponctuel\n",
    "\n",
    "data5 = m.query(criteria={\"task_id\": {\"$in\": [\"mp-169\"]}}, properties=[\"spacegroup.point_group\"])\n",
    "print(data5[0]['spacegroup.point_group'])"
   ]
  },
  {
   "cell_type": "code",
   "execution_count": null,
   "metadata": {},
   "outputs": [],
   "source": []
  }
 ],
 "metadata": {
  "kernelspec": {
   "display_name": "Python 3",
   "language": "python",
   "name": "python3"
  },
  "language_info": {
   "codemirror_mode": {
    "name": "ipython",
    "version": 3
   },
   "file_extension": ".py",
   "mimetype": "text/x-python",
   "name": "python",
   "nbconvert_exporter": "python",
   "pygments_lexer": "ipython3",
   "version": "3.6.8"
  }
 },
 "nbformat": 4,
 "nbformat_minor": 2
}
