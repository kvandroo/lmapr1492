{
 "cells": [
  {
   "cell_type": "code",
   "execution_count": 84,
   "metadata": {},
   "outputs": [],
   "source": [
    "from pymatgen.ext.matproj import MPRester\n",
    "from pymatgen.symmetry.analyzer import SpacegroupAnalyzer\n",
    "from pprint import pprint\n",
    "with MPRester(\"CBIGbbbqQQkuWWiae\") as m:\n",
    "    structure = m.get_structure_by_material_id(\"mp-169\")\n",
    "    structure.to(filename=\"C_mp-169.cif\")"
   ]
  },
  {
   "cell_type": "code",
   "execution_count": 85,
   "metadata": {},
   "outputs": [
    {
     "name": "stdout",
     "output_type": "stream",
     "text": [
      "Réseau direct :\n",
      "[{'material_id': 'mp-169',\n",
      "  'structure': Structure Summary\n",
      "Lattice\n",
      "    abc : 3.8799708180018944 3.8799702847843087 3.8799708513500786\n",
      " angles : 37.08140754972897 37.08141799820452 37.08141708736065\n",
      " volume : 19.02943266013705\n",
      "      A : 2.33235699 -0.00548899 3.1006861\n",
      "      B : 1.03206167 2.09159361 3.1006861\n",
      "      C : -0.00885244 -0.00548895 3.87995687\n",
      "PeriodicSite: C (2.7963, 1.7339, 8.4012) [0.8333, 0.8333, 0.8333]\n",
      "PeriodicSite: C (0.5592, 0.3468, 1.6801) [0.1667, 0.1667, 0.1667]}]\n"
     ]
    }
   ],
   "source": [
    "print('Réseau direct :')\n",
    "RD = m.get_data(\"mp-169\", prop=\"structure\")\n",
    "pprint(RD)"
   ]
  },
  {
   "cell_type": "code",
   "execution_count": 86,
   "metadata": {},
   "outputs": [
    {
     "name": "stdout",
     "output_type": "stream",
     "text": [
      "Vecteurs de base du réseau direct :\n",
      "2.332357 -0.005489 3.100686\n",
      "1.032062 2.091594 3.100686\n",
      "-0.008852 -0.005489 3.879957\n"
     ]
    }
   ],
   "source": [
    "#1 Détermination des vecteurs de base du réseau direct \n",
    "\n",
    "print('Vecteurs de base du réseau direct :')\n",
    "data1 = structure.lattice\n",
    "print(data1)"
   ]
  },
  {
   "cell_type": "code",
   "execution_count": 87,
   "metadata": {},
   "outputs": [
    {
     "name": "stdout",
     "output_type": "stream",
     "text": [
      "Réseau réciproque :\n",
      "Lattice\n",
      "    abc : 2.997034273514559 2.9970342735145596 2.997034273514559\n",
      " angles : 116.34392235882125 116.34392235882125 116.34392235882125\n",
      " volume : 13.035084398557876\n",
      "      A : 2.6857818140219134 -1.3299588279680326 0.0\n",
      "      B : 0.0 2.9970342735145596 0.0\n",
      "      C : -2.1426620151455813 -1.329958827968032 1.6193898361367827\n"
     ]
    }
   ],
   "source": [
    "print('Réseau réciproque :')\n",
    "res = lattice.rhombohedral(structure.lattice.lengths[0],structure.lattice.angles[0])\n",
    "RR = res.reciprocal_lattice\n",
    "pprint(RR)"
   ]
  },
  {
   "cell_type": "code",
   "execution_count": 88,
   "metadata": {},
   "outputs": [
    {
     "name": "stdout",
     "output_type": "stream",
     "text": [
      "Vecteurs de base du réseau réciproque :\n",
      "2.685147 -1.331231 0.004243\n",
      "0.001412 2.997031 0.004243\n",
      "-2.146977 -1.331232 1.612614\n"
     ]
    }
   ],
   "source": [
    "#2 Détermination des vecteurs de base du réseau réciproque\n",
    "\n",
    "print('Vecteurs de base du réseau réciproque :')\n",
    "data2 = structure.lattice.reciprocal_lattice\n",
    "print(data2)"
   ]
  },
  {
   "cell_type": "code",
   "execution_count": 89,
   "metadata": {},
   "outputs": [],
   "source": [
    "sga = SpacegroupAnalyzer(structure)"
   ]
  },
  {
   "cell_type": "code",
   "execution_count": 90,
   "metadata": {},
   "outputs": [
    {
     "name": "stdout",
     "output_type": "stream",
     "text": [
      "Type de maille :\n",
      "'rhombohedral'\n"
     ]
    }
   ],
   "source": [
    "#3 Détermination du type de maille\n",
    "    \n",
    "print('Type de maille :')\n",
    "data3 = sga.get_lattice_type()\n",
    "pprint(data3)"
   ]
  },
  {
   "cell_type": "code",
   "execution_count": 91,
   "metadata": {},
   "outputs": [
    {
     "name": "stdout",
     "output_type": "stream",
     "text": [
      "Système cristallin :\n",
      "'trigonal'\n"
     ]
    }
   ],
   "source": [
    "#4 Détermination du système cristallin\n",
    "\n",
    "print('Système cristallin :')\n",
    "data4 = sga.get_crystal_system()\n",
    "pprint(data4)  "
   ]
  },
  {
   "cell_type": "code",
   "execution_count": 92,
   "metadata": {},
   "outputs": [
    {
     "name": "stdout",
     "output_type": "stream",
     "text": [
      "Groupe ponctuel :\n",
      "'-3m'\n"
     ]
    }
   ],
   "source": [
    "#5 Détermination du groupe ponctuel\n",
    "\n",
    "print('Groupe ponctuel :')\n",
    "data5 = m.query(criteria={\"task_id\": {\"$in\": [\"mp-169\"]}}, properties=[\"spacegroup.point_group\"])\n",
    "pprint(data5[0]['spacegroup.point_group'])"
   ]
  },
  {
   "cell_type": "code",
   "execution_count": null,
   "metadata": {},
   "outputs": [],
   "source": []
  },
  {
   "cell_type": "code",
   "execution_count": null,
   "metadata": {},
   "outputs": [],
   "source": []
  }
 ],
 "metadata": {
  "kernelspec": {
   "display_name": "Python 3",
   "language": "python",
   "name": "python3"
  },
  "language_info": {
   "codemirror_mode": {
    "name": "ipython",
    "version": 3
   },
   "file_extension": ".py",
   "mimetype": "text/x-python",
   "name": "python",
   "nbconvert_exporter": "python",
   "pygments_lexer": "ipython3",
   "version": "3.6.8"
  }
 },
 "nbformat": 4,
 "nbformat_minor": 2
}
